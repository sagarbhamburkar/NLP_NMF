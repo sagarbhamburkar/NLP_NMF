{
 "cells": [
  {
   "cell_type": "markdown",
   "id": "c7cc0c72",
   "metadata": {},
   "source": [
    "# Problem Statement\n",
    "\n",
    "***Prepare solution to build ticketing system there by using json file as your primary datasource (Text corpus with other metadata in it).*** \n",
    "    \n",
    "    Step 1: Group data into five categories namely \n",
    "        Banking services, \n",
    "        loans, \n",
    "        Fraudalent reporting, \n",
    "        Card, \n",
    "        others.\n",
    "        \n",
    "\n",
    "    Step 2: From step 1 create labeled dataset and utilize it to train supervised model like\n",
    "        logistic regression, decision tree or random forest.\n",
    "===========================================================================================================================\n",
    "\n",
    "    * Above excercise should follow these steps *\n",
    "        1.Load Data\n",
    "        2.Text Preprocessing\n",
    "        3.EDA\n",
    "        4.Feature Extraction\n",
    "        5.Topic Modelling (Unsupervised)\n",
    "        6.Model building using Supervised learning\n",
    "        7.Model Training and evaluation\n",
    "        8.Inference\n"
   ]
  },
  {
   "cell_type": "markdown",
   "id": "840ba618",
   "metadata": {},
   "source": [
    "**Script:** NLP_assignment_Ranveer <br>\n",
    "\n",
    "**Purpose:** Prepare solution to build ticketing system  <br>\n",
    "**Author:** Sagar Bhamburkar  <br>\n",
    "**Peer review:** Ranveer, Karan, Shriti  <br>\n",
    "**Version:** SB1  <br>\n",
    "**Date of last update:** 22Dec22  <br>"
   ]
  },
  {
   "cell_type": "code",
   "execution_count": null,
   "id": "40b21ad8",
   "metadata": {},
   "outputs": [],
   "source": []
  },
  {
   "cell_type": "markdown",
   "id": "7c71b770",
   "metadata": {},
   "source": [
    "### Import libraries"
   ]
  },
  {
   "cell_type": "code",
   "execution_count": 2,
   "id": "69b93e2a",
   "metadata": {},
   "outputs": [
    {
     "name": "stderr",
     "output_type": "stream",
     "text": [
      "[nltk_data] Downloading package punkt to\n",
      "[nltk_data]     C:\\Users\\sagar_bhamburkar\\AppData\\Roaming\\nltk_data...\n",
      "[nltk_data]   Package punkt is already up-to-date!\n",
      "C:\\Users\\sagar_bhamburkar\\Anaconda3\\lib\\site-packages\\spacy\\util.py:837: UserWarning: [W095] Model 'en_core_web_sm' (3.2.0) was trained with spaCy v3.2 and may not be 100% compatible with the current version (3.3.1). If you see errors or degraded performance, download a newer compatible model or retrain your custom model with the current spaCy version. For more details and available updates, run: python -m spacy validate\n",
      "  warnings.warn(warn_msg)\n"
     ]
    }
   ],
   "source": [
    "import pandas as pd\n",
    "import numpy as np \n",
    "import string, re, nltk, spacy, json\n",
    "import matplotlib.pyplot as plt\n",
    "%matplotlib inline\n",
    "\n",
    "from sklearn.feature_extraction.text import CountVectorizer, TfidfVectorizer\n",
    "\n",
    "nltk.download('punkt')\n",
    "import en_core_web_sm\n",
    "from nltk import word_tokenize, sent_tokenize\n",
    "from nltk.corpus import stopwords\n",
    "from nltk.stem import WordNetLemmatizer\n"
   ]
  },
  {
   "cell_type": "markdown",
   "id": "196cf0bb",
   "metadata": {},
   "source": [
    "### Feature Engineering"
   ]
  },
  {
   "cell_type": "code",
   "execution_count": 3,
   "id": "40166f2a",
   "metadata": {},
   "outputs": [],
   "source": [
    "#import json file\n",
    "with open(\"Client_data.json\") as jsonFile:\n",
    "    data = json.load(jsonFile)\n",
    "    df = pd.json_normalize(data)"
   ]
  },
  {
   "cell_type": "code",
   "execution_count": 4,
   "id": "ce6de944",
   "metadata": {},
   "outputs": [
    {
     "data": {
      "text/html": [
       "<div>\n",
       "<style scoped>\n",
       "    .dataframe tbody tr th:only-of-type {\n",
       "        vertical-align: middle;\n",
       "    }\n",
       "\n",
       "    .dataframe tbody tr th {\n",
       "        vertical-align: top;\n",
       "    }\n",
       "\n",
       "    .dataframe thead th {\n",
       "        text-align: right;\n",
       "    }\n",
       "</style>\n",
       "<table border=\"1\" class=\"dataframe\">\n",
       "  <thead>\n",
       "    <tr style=\"text-align: right;\">\n",
       "      <th></th>\n",
       "      <th>_index</th>\n",
       "      <th>_type</th>\n",
       "      <th>_id</th>\n",
       "      <th>_score</th>\n",
       "      <th>_source.tags</th>\n",
       "      <th>_source.zip_code</th>\n",
       "      <th>_source.complaint_id</th>\n",
       "      <th>_source.issue</th>\n",
       "      <th>_source.date_received</th>\n",
       "      <th>_source.state</th>\n",
       "      <th>...</th>\n",
       "      <th>_source.company_response</th>\n",
       "      <th>_source.company</th>\n",
       "      <th>_source.submitted_via</th>\n",
       "      <th>_source.date_sent_to_company</th>\n",
       "      <th>_source.company_public_response</th>\n",
       "      <th>_source.sub_product</th>\n",
       "      <th>_source.timely</th>\n",
       "      <th>_source.complaint_what_happened</th>\n",
       "      <th>_source.sub_issue</th>\n",
       "      <th>_source.consumer_consent_provided</th>\n",
       "    </tr>\n",
       "  </thead>\n",
       "  <tbody>\n",
       "    <tr>\n",
       "      <th>0</th>\n",
       "      <td>complaint-public-v2</td>\n",
       "      <td>complaint</td>\n",
       "      <td>3211475</td>\n",
       "      <td>0.0</td>\n",
       "      <td>None</td>\n",
       "      <td>90301</td>\n",
       "      <td>3211475</td>\n",
       "      <td>Attempts to collect debt not owed</td>\n",
       "      <td>2019-04-13T12:00:00-05:00</td>\n",
       "      <td>CA</td>\n",
       "      <td>...</td>\n",
       "      <td>Closed with explanation</td>\n",
       "      <td>JPMORGAN CHASE &amp; CO.</td>\n",
       "      <td>Web</td>\n",
       "      <td>2019-04-13T12:00:00-05:00</td>\n",
       "      <td>None</td>\n",
       "      <td>Credit card debt</td>\n",
       "      <td>Yes</td>\n",
       "      <td></td>\n",
       "      <td>Debt is not yours</td>\n",
       "      <td>Consent not provided</td>\n",
       "    </tr>\n",
       "    <tr>\n",
       "      <th>1</th>\n",
       "      <td>complaint-public-v2</td>\n",
       "      <td>complaint</td>\n",
       "      <td>3229299</td>\n",
       "      <td>0.0</td>\n",
       "      <td>Servicemember</td>\n",
       "      <td>319XX</td>\n",
       "      <td>3229299</td>\n",
       "      <td>Written notification about debt</td>\n",
       "      <td>2019-05-01T12:00:00-05:00</td>\n",
       "      <td>GA</td>\n",
       "      <td>...</td>\n",
       "      <td>Closed with explanation</td>\n",
       "      <td>JPMORGAN CHASE &amp; CO.</td>\n",
       "      <td>Web</td>\n",
       "      <td>2019-05-01T12:00:00-05:00</td>\n",
       "      <td>None</td>\n",
       "      <td>Credit card debt</td>\n",
       "      <td>Yes</td>\n",
       "      <td>Good morning my name is XXXX XXXX and I apprec...</td>\n",
       "      <td>Didn't receive enough information to verify debt</td>\n",
       "      <td>Consent provided</td>\n",
       "    </tr>\n",
       "    <tr>\n",
       "      <th>2</th>\n",
       "      <td>complaint-public-v2</td>\n",
       "      <td>complaint</td>\n",
       "      <td>3199379</td>\n",
       "      <td>0.0</td>\n",
       "      <td>None</td>\n",
       "      <td>77069</td>\n",
       "      <td>3199379</td>\n",
       "      <td>Other features, terms, or problems</td>\n",
       "      <td>2019-04-02T12:00:00-05:00</td>\n",
       "      <td>TX</td>\n",
       "      <td>...</td>\n",
       "      <td>Closed with explanation</td>\n",
       "      <td>JPMORGAN CHASE &amp; CO.</td>\n",
       "      <td>Web</td>\n",
       "      <td>2019-04-02T12:00:00-05:00</td>\n",
       "      <td>None</td>\n",
       "      <td>General-purpose credit card or charge card</td>\n",
       "      <td>Yes</td>\n",
       "      <td>I upgraded my XXXX XXXX card in XX/XX/2018 and...</td>\n",
       "      <td>Problem with rewards from credit card</td>\n",
       "      <td>Consent provided</td>\n",
       "    </tr>\n",
       "    <tr>\n",
       "      <th>3</th>\n",
       "      <td>complaint-public-v2</td>\n",
       "      <td>complaint</td>\n",
       "      <td>2673060</td>\n",
       "      <td>0.0</td>\n",
       "      <td>None</td>\n",
       "      <td>48066</td>\n",
       "      <td>2673060</td>\n",
       "      <td>Trouble during payment process</td>\n",
       "      <td>2017-09-13T12:00:00-05:00</td>\n",
       "      <td>MI</td>\n",
       "      <td>...</td>\n",
       "      <td>Closed with explanation</td>\n",
       "      <td>JPMORGAN CHASE &amp; CO.</td>\n",
       "      <td>Web</td>\n",
       "      <td>2017-09-14T12:00:00-05:00</td>\n",
       "      <td>None</td>\n",
       "      <td>Conventional home mortgage</td>\n",
       "      <td>Yes</td>\n",
       "      <td></td>\n",
       "      <td>None</td>\n",
       "      <td>Consent not provided</td>\n",
       "    </tr>\n",
       "    <tr>\n",
       "      <th>4</th>\n",
       "      <td>complaint-public-v2</td>\n",
       "      <td>complaint</td>\n",
       "      <td>3203545</td>\n",
       "      <td>0.0</td>\n",
       "      <td>None</td>\n",
       "      <td>10473</td>\n",
       "      <td>3203545</td>\n",
       "      <td>Fees or interest</td>\n",
       "      <td>2019-04-05T12:00:00-05:00</td>\n",
       "      <td>NY</td>\n",
       "      <td>...</td>\n",
       "      <td>Closed with explanation</td>\n",
       "      <td>JPMORGAN CHASE &amp; CO.</td>\n",
       "      <td>Referral</td>\n",
       "      <td>2019-04-05T12:00:00-05:00</td>\n",
       "      <td>None</td>\n",
       "      <td>General-purpose credit card or charge card</td>\n",
       "      <td>Yes</td>\n",
       "      <td></td>\n",
       "      <td>Charged too much interest</td>\n",
       "      <td>N/A</td>\n",
       "    </tr>\n",
       "  </tbody>\n",
       "</table>\n",
       "<p>5 rows × 22 columns</p>\n",
       "</div>"
      ],
      "text/plain": [
       "                _index      _type      _id  _score   _source.tags  \\\n",
       "0  complaint-public-v2  complaint  3211475     0.0           None   \n",
       "1  complaint-public-v2  complaint  3229299     0.0  Servicemember   \n",
       "2  complaint-public-v2  complaint  3199379     0.0           None   \n",
       "3  complaint-public-v2  complaint  2673060     0.0           None   \n",
       "4  complaint-public-v2  complaint  3203545     0.0           None   \n",
       "\n",
       "  _source.zip_code _source.complaint_id                       _source.issue  \\\n",
       "0            90301              3211475   Attempts to collect debt not owed   \n",
       "1            319XX              3229299     Written notification about debt   \n",
       "2            77069              3199379  Other features, terms, or problems   \n",
       "3            48066              2673060      Trouble during payment process   \n",
       "4            10473              3203545                    Fees or interest   \n",
       "\n",
       "       _source.date_received _source.state  ... _source.company_response  \\\n",
       "0  2019-04-13T12:00:00-05:00            CA  ...  Closed with explanation   \n",
       "1  2019-05-01T12:00:00-05:00            GA  ...  Closed with explanation   \n",
       "2  2019-04-02T12:00:00-05:00            TX  ...  Closed with explanation   \n",
       "3  2017-09-13T12:00:00-05:00            MI  ...  Closed with explanation   \n",
       "4  2019-04-05T12:00:00-05:00            NY  ...  Closed with explanation   \n",
       "\n",
       "        _source.company _source.submitted_via _source.date_sent_to_company  \\\n",
       "0  JPMORGAN CHASE & CO.                   Web    2019-04-13T12:00:00-05:00   \n",
       "1  JPMORGAN CHASE & CO.                   Web    2019-05-01T12:00:00-05:00   \n",
       "2  JPMORGAN CHASE & CO.                   Web    2019-04-02T12:00:00-05:00   \n",
       "3  JPMORGAN CHASE & CO.                   Web    2017-09-14T12:00:00-05:00   \n",
       "4  JPMORGAN CHASE & CO.              Referral    2019-04-05T12:00:00-05:00   \n",
       "\n",
       "  _source.company_public_response                         _source.sub_product  \\\n",
       "0                            None                            Credit card debt   \n",
       "1                            None                            Credit card debt   \n",
       "2                            None  General-purpose credit card or charge card   \n",
       "3                            None                  Conventional home mortgage   \n",
       "4                            None  General-purpose credit card or charge card   \n",
       "\n",
       "  _source.timely                    _source.complaint_what_happened  \\\n",
       "0            Yes                                                      \n",
       "1            Yes  Good morning my name is XXXX XXXX and I apprec...   \n",
       "2            Yes  I upgraded my XXXX XXXX card in XX/XX/2018 and...   \n",
       "3            Yes                                                      \n",
       "4            Yes                                                      \n",
       "\n",
       "                                  _source.sub_issue  \\\n",
       "0                                 Debt is not yours   \n",
       "1  Didn't receive enough information to verify debt   \n",
       "2             Problem with rewards from credit card   \n",
       "3                                              None   \n",
       "4                         Charged too much interest   \n",
       "\n",
       "  _source.consumer_consent_provided  \n",
       "0              Consent not provided  \n",
       "1                  Consent provided  \n",
       "2                  Consent provided  \n",
       "3              Consent not provided  \n",
       "4                               N/A  \n",
       "\n",
       "[5 rows x 22 columns]"
      ]
     },
     "execution_count": 4,
     "metadata": {},
     "output_type": "execute_result"
    }
   ],
   "source": [
    "df.head()"
   ]
  },
  {
   "cell_type": "code",
   "execution_count": 5,
   "id": "8aefa329",
   "metadata": {},
   "outputs": [
    {
     "data": {
      "text/plain": [
       "Index(['_index', '_type', '_id', '_score', '_source.tags', '_source.zip_code',\n",
       "       '_source.complaint_id', '_source.issue', '_source.date_received',\n",
       "       '_source.state', '_source.consumer_disputed', '_source.product',\n",
       "       '_source.company_response', '_source.company', '_source.submitted_via',\n",
       "       '_source.date_sent_to_company', '_source.company_public_response',\n",
       "       '_source.sub_product', '_source.timely',\n",
       "       '_source.complaint_what_happened', '_source.sub_issue',\n",
       "       '_source.consumer_consent_provided'],\n",
       "      dtype='object')"
      ]
     },
     "execution_count": 5,
     "metadata": {},
     "output_type": "execute_result"
    }
   ],
   "source": [
    "df.columns"
   ]
  },
  {
   "cell_type": "code",
   "execution_count": 6,
   "id": "fc0205cc",
   "metadata": {},
   "outputs": [
    {
     "data": {
      "text/plain": [
       "(78313, 22)"
      ]
     },
     "execution_count": 6,
     "metadata": {},
     "output_type": "execute_result"
    }
   ],
   "source": [
    "df.shape"
   ]
  },
  {
   "cell_type": "code",
   "execution_count": 7,
   "id": "c39db6cc",
   "metadata": {},
   "outputs": [
    {
     "data": {
      "text/plain": [
       "_index                                   0\n",
       "_type                                    0\n",
       "_id                                      0\n",
       "_score                                   0\n",
       "_source.tags                         67413\n",
       "_source.zip_code                      6757\n",
       "_source.complaint_id                     0\n",
       "_source.issue                            0\n",
       "_source.date_received                    0\n",
       "_source.state                         1991\n",
       "_source.consumer_disputed                0\n",
       "_source.product                          0\n",
       "_source.company_response                 0\n",
       "_source.company                          0\n",
       "_source.submitted_via                    0\n",
       "_source.date_sent_to_company             0\n",
       "_source.company_public_response      78309\n",
       "_source.sub_product                  10571\n",
       "_source.timely                           0\n",
       "_source.complaint_what_happened          0\n",
       "_source.sub_issue                    46297\n",
       "_source.consumer_consent_provided     1008\n",
       "dtype: int64"
      ]
     },
     "execution_count": 7,
     "metadata": {},
     "output_type": "execute_result"
    }
   ],
   "source": [
    "df.isnull().sum()"
   ]
  },
  {
   "cell_type": "code",
   "execution_count": 8,
   "id": "fa807c98",
   "metadata": {},
   "outputs": [
    {
     "data": {
      "text/html": [
       "<div>\n",
       "<style scoped>\n",
       "    .dataframe tbody tr th:only-of-type {\n",
       "        vertical-align: middle;\n",
       "    }\n",
       "\n",
       "    .dataframe tbody tr th {\n",
       "        vertical-align: top;\n",
       "    }\n",
       "\n",
       "    .dataframe thead th {\n",
       "        text-align: right;\n",
       "    }\n",
       "</style>\n",
       "<table border=\"1\" class=\"dataframe\">\n",
       "  <thead>\n",
       "    <tr style=\"text-align: right;\">\n",
       "      <th></th>\n",
       "      <th>_source.product</th>\n",
       "      <th>_source.sub_product</th>\n",
       "      <th>_source.complaint_what_happened</th>\n",
       "    </tr>\n",
       "  </thead>\n",
       "  <tbody>\n",
       "    <tr>\n",
       "      <th>0</th>\n",
       "      <td>Debt collection</td>\n",
       "      <td>Credit card debt</td>\n",
       "      <td></td>\n",
       "    </tr>\n",
       "    <tr>\n",
       "      <th>1</th>\n",
       "      <td>Debt collection</td>\n",
       "      <td>Credit card debt</td>\n",
       "      <td>Good morning my name is XXXX XXXX and I apprec...</td>\n",
       "    </tr>\n",
       "    <tr>\n",
       "      <th>2</th>\n",
       "      <td>Credit card or prepaid card</td>\n",
       "      <td>General-purpose credit card or charge card</td>\n",
       "      <td>I upgraded my XXXX XXXX card in XX/XX/2018 and...</td>\n",
       "    </tr>\n",
       "    <tr>\n",
       "      <th>3</th>\n",
       "      <td>Mortgage</td>\n",
       "      <td>Conventional home mortgage</td>\n",
       "      <td></td>\n",
       "    </tr>\n",
       "    <tr>\n",
       "      <th>4</th>\n",
       "      <td>Credit card or prepaid card</td>\n",
       "      <td>General-purpose credit card or charge card</td>\n",
       "      <td></td>\n",
       "    </tr>\n",
       "  </tbody>\n",
       "</table>\n",
       "</div>"
      ],
      "text/plain": [
       "               _source.product                         _source.sub_product  \\\n",
       "0              Debt collection                            Credit card debt   \n",
       "1              Debt collection                            Credit card debt   \n",
       "2  Credit card or prepaid card  General-purpose credit card or charge card   \n",
       "3                     Mortgage                  Conventional home mortgage   \n",
       "4  Credit card or prepaid card  General-purpose credit card or charge card   \n",
       "\n",
       "                     _source.complaint_what_happened  \n",
       "0                                                     \n",
       "1  Good morning my name is XXXX XXXX and I apprec...  \n",
       "2  I upgraded my XXXX XXXX card in XX/XX/2018 and...  \n",
       "3                                                     \n",
       "4                                                     "
      ]
     },
     "execution_count": 8,
     "metadata": {},
     "output_type": "execute_result"
    }
   ],
   "source": [
    "#fetch only required three columns according to problem statement \n",
    "df = df[['_source.product','_source.sub_product','_source.complaint_what_happened']]\n",
    "df.head()"
   ]
  },
  {
   "cell_type": "code",
   "execution_count": 9,
   "id": "e20eb228",
   "metadata": {},
   "outputs": [
    {
     "data": {
      "text/html": [
       "<div>\n",
       "<style scoped>\n",
       "    .dataframe tbody tr th:only-of-type {\n",
       "        vertical-align: middle;\n",
       "    }\n",
       "\n",
       "    .dataframe tbody tr th {\n",
       "        vertical-align: top;\n",
       "    }\n",
       "\n",
       "    .dataframe thead th {\n",
       "        text-align: right;\n",
       "    }\n",
       "</style>\n",
       "<table border=\"1\" class=\"dataframe\">\n",
       "  <thead>\n",
       "    <tr style=\"text-align: right;\">\n",
       "      <th></th>\n",
       "      <th>product</th>\n",
       "      <th>sub_product</th>\n",
       "      <th>complaint_list</th>\n",
       "    </tr>\n",
       "  </thead>\n",
       "  <tbody>\n",
       "    <tr>\n",
       "      <th>0</th>\n",
       "      <td>Debt collection</td>\n",
       "      <td>Credit card debt</td>\n",
       "      <td></td>\n",
       "    </tr>\n",
       "    <tr>\n",
       "      <th>1</th>\n",
       "      <td>Debt collection</td>\n",
       "      <td>Credit card debt</td>\n",
       "      <td>Good morning my name is XXXX XXXX and I apprec...</td>\n",
       "    </tr>\n",
       "    <tr>\n",
       "      <th>2</th>\n",
       "      <td>Credit card or prepaid card</td>\n",
       "      <td>General-purpose credit card or charge card</td>\n",
       "      <td>I upgraded my XXXX XXXX card in XX/XX/2018 and...</td>\n",
       "    </tr>\n",
       "    <tr>\n",
       "      <th>3</th>\n",
       "      <td>Mortgage</td>\n",
       "      <td>Conventional home mortgage</td>\n",
       "      <td></td>\n",
       "    </tr>\n",
       "    <tr>\n",
       "      <th>4</th>\n",
       "      <td>Credit card or prepaid card</td>\n",
       "      <td>General-purpose credit card or charge card</td>\n",
       "      <td></td>\n",
       "    </tr>\n",
       "  </tbody>\n",
       "</table>\n",
       "</div>"
      ],
      "text/plain": [
       "                       product                                 sub_product  \\\n",
       "0              Debt collection                            Credit card debt   \n",
       "1              Debt collection                            Credit card debt   \n",
       "2  Credit card or prepaid card  General-purpose credit card or charge card   \n",
       "3                     Mortgage                  Conventional home mortgage   \n",
       "4  Credit card or prepaid card  General-purpose credit card or charge card   \n",
       "\n",
       "                                      complaint_list  \n",
       "0                                                     \n",
       "1  Good morning my name is XXXX XXXX and I apprec...  \n",
       "2  I upgraded my XXXX XXXX card in XX/XX/2018 and...  \n",
       "3                                                     \n",
       "4                                                     "
      ]
     },
     "execution_count": 9,
     "metadata": {},
     "output_type": "execute_result"
    }
   ],
   "source": [
    "#rename columns\n",
    "df = df.rename(columns={\n",
    "    '_source.product':'product',\n",
    "    '_source.sub_product':'sub_product',\n",
    "    '_source.complaint_what_happened':'complaint_list'\n",
    "    })\n",
    "\n",
    "df.head()"
   ]
  },
  {
   "cell_type": "code",
   "execution_count": 10,
   "id": "1a3f7218",
   "metadata": {},
   "outputs": [
    {
     "data": {
      "text/html": [
       "<div>\n",
       "<style scoped>\n",
       "    .dataframe tbody tr th:only-of-type {\n",
       "        vertical-align: middle;\n",
       "    }\n",
       "\n",
       "    .dataframe tbody tr th {\n",
       "        vertical-align: top;\n",
       "    }\n",
       "\n",
       "    .dataframe thead th {\n",
       "        text-align: right;\n",
       "    }\n",
       "</style>\n",
       "<table border=\"1\" class=\"dataframe\">\n",
       "  <thead>\n",
       "    <tr style=\"text-align: right;\">\n",
       "      <th></th>\n",
       "      <th>product</th>\n",
       "      <th>sub_product</th>\n",
       "      <th>complaint_list</th>\n",
       "      <th>product_subproduct</th>\n",
       "    </tr>\n",
       "  </thead>\n",
       "  <tbody>\n",
       "    <tr>\n",
       "      <th>0</th>\n",
       "      <td>Debt collection</td>\n",
       "      <td>Credit card debt</td>\n",
       "      <td></td>\n",
       "      <td>Debt collection_Credit card debt</td>\n",
       "    </tr>\n",
       "    <tr>\n",
       "      <th>1</th>\n",
       "      <td>Debt collection</td>\n",
       "      <td>Credit card debt</td>\n",
       "      <td>Good morning my name is XXXX XXXX and I apprec...</td>\n",
       "      <td>Debt collection_Credit card debt</td>\n",
       "    </tr>\n",
       "    <tr>\n",
       "      <th>2</th>\n",
       "      <td>Credit card or prepaid card</td>\n",
       "      <td>General-purpose credit card or charge card</td>\n",
       "      <td>I upgraded my XXXX XXXX card in XX/XX/2018 and...</td>\n",
       "      <td>Credit card or prepaid card_General-purpose cr...</td>\n",
       "    </tr>\n",
       "    <tr>\n",
       "      <th>3</th>\n",
       "      <td>Mortgage</td>\n",
       "      <td>Conventional home mortgage</td>\n",
       "      <td></td>\n",
       "      <td>Mortgage_Conventional home mortgage</td>\n",
       "    </tr>\n",
       "    <tr>\n",
       "      <th>4</th>\n",
       "      <td>Credit card or prepaid card</td>\n",
       "      <td>General-purpose credit card or charge card</td>\n",
       "      <td></td>\n",
       "      <td>Credit card or prepaid card_General-purpose cr...</td>\n",
       "    </tr>\n",
       "  </tbody>\n",
       "</table>\n",
       "</div>"
      ],
      "text/plain": [
       "                       product                                 sub_product  \\\n",
       "0              Debt collection                            Credit card debt   \n",
       "1              Debt collection                            Credit card debt   \n",
       "2  Credit card or prepaid card  General-purpose credit card or charge card   \n",
       "3                     Mortgage                  Conventional home mortgage   \n",
       "4  Credit card or prepaid card  General-purpose credit card or charge card   \n",
       "\n",
       "                                      complaint_list  \\\n",
       "0                                                      \n",
       "1  Good morning my name is XXXX XXXX and I apprec...   \n",
       "2  I upgraded my XXXX XXXX card in XX/XX/2018 and...   \n",
       "3                                                      \n",
       "4                                                      \n",
       "\n",
       "                                  product_subproduct  \n",
       "0                   Debt collection_Credit card debt  \n",
       "1                   Debt collection_Credit card debt  \n",
       "2  Credit card or prepaid card_General-purpose cr...  \n",
       "3                Mortgage_Conventional home mortgage  \n",
       "4  Credit card or prepaid card_General-purpose cr...  "
      ]
     },
     "execution_count": 10,
     "metadata": {},
     "output_type": "execute_result"
    }
   ],
   "source": [
    "#we can make one column of product and sub product\n",
    "df['product_subproduct'] = df['product'] + '_'+ df['sub_product']\n",
    "df.head()"
   ]
  },
  {
   "cell_type": "code",
   "execution_count": 11,
   "id": "0db006db",
   "metadata": {},
   "outputs": [
    {
     "data": {
      "text/html": [
       "<div>\n",
       "<style scoped>\n",
       "    .dataframe tbody tr th:only-of-type {\n",
       "        vertical-align: middle;\n",
       "    }\n",
       "\n",
       "    .dataframe tbody tr th {\n",
       "        vertical-align: top;\n",
       "    }\n",
       "\n",
       "    .dataframe thead th {\n",
       "        text-align: right;\n",
       "    }\n",
       "</style>\n",
       "<table border=\"1\" class=\"dataframe\">\n",
       "  <thead>\n",
       "    <tr style=\"text-align: right;\">\n",
       "      <th></th>\n",
       "      <th>complaint_list</th>\n",
       "      <th>product_subproduct</th>\n",
       "    </tr>\n",
       "  </thead>\n",
       "  <tbody>\n",
       "    <tr>\n",
       "      <th>0</th>\n",
       "      <td></td>\n",
       "      <td>Debt collection_Credit card debt</td>\n",
       "    </tr>\n",
       "    <tr>\n",
       "      <th>1</th>\n",
       "      <td>Good morning my name is XXXX XXXX and I apprec...</td>\n",
       "      <td>Debt collection_Credit card debt</td>\n",
       "    </tr>\n",
       "    <tr>\n",
       "      <th>2</th>\n",
       "      <td>I upgraded my XXXX XXXX card in XX/XX/2018 and...</td>\n",
       "      <td>Credit card or prepaid card_General-purpose cr...</td>\n",
       "    </tr>\n",
       "    <tr>\n",
       "      <th>3</th>\n",
       "      <td></td>\n",
       "      <td>Mortgage_Conventional home mortgage</td>\n",
       "    </tr>\n",
       "    <tr>\n",
       "      <th>4</th>\n",
       "      <td></td>\n",
       "      <td>Credit card or prepaid card_General-purpose cr...</td>\n",
       "    </tr>\n",
       "  </tbody>\n",
       "</table>\n",
       "</div>"
      ],
      "text/plain": [
       "                                      complaint_list  \\\n",
       "0                                                      \n",
       "1  Good morning my name is XXXX XXXX and I apprec...   \n",
       "2  I upgraded my XXXX XXXX card in XX/XX/2018 and...   \n",
       "3                                                      \n",
       "4                                                      \n",
       "\n",
       "                                  product_subproduct  \n",
       "0                   Debt collection_Credit card debt  \n",
       "1                   Debt collection_Credit card debt  \n",
       "2  Credit card or prepaid card_General-purpose cr...  \n",
       "3                Mortgage_Conventional home mortgage  \n",
       "4  Credit card or prepaid card_General-purpose cr...  "
      ]
     },
     "execution_count": 11,
     "metadata": {},
     "output_type": "execute_result"
    }
   ],
   "source": [
    "#remove product and sub product columns\n",
    "df = df.drop(['product','sub_product'], axis=1)\n",
    "df.head()"
   ]
  },
  {
   "cell_type": "code",
   "execution_count": 12,
   "id": "2d9e5e3e",
   "metadata": {},
   "outputs": [
    {
     "data": {
      "text/plain": [
       "complaint_list            0\n",
       "product_subproduct    10571\n",
       "dtype: int64"
      ]
     },
     "execution_count": 12,
     "metadata": {},
     "output_type": "execute_result"
    }
   ],
   "source": [
    "df.isnull().sum()"
   ]
  },
  {
   "cell_type": "code",
   "execution_count": 13,
   "id": "06d63e66",
   "metadata": {},
   "outputs": [
    {
     "data": {
      "text/plain": [
       "complaint_list                                           \n",
       "product_subproduct    Mortgage_Conventional home mortgage\n",
       "Name: 3, dtype: object"
      ]
     },
     "execution_count": 13,
     "metadata": {},
     "output_type": "execute_result"
    }
   ],
   "source": [
    "#zero null values for complaint list, but as we can see in row 3 and 4 there are some empty string\n",
    "df.iloc[3]"
   ]
  },
  {
   "cell_type": "code",
   "execution_count": 14,
   "id": "7896fda1",
   "metadata": {},
   "outputs": [
    {
     "data": {
      "text/plain": [
       "''"
      ]
     },
     "execution_count": 14,
     "metadata": {},
     "output_type": "execute_result"
    }
   ],
   "source": [
    "df['complaint_list'][3]"
   ]
  },
  {
   "cell_type": "code",
   "execution_count": 15,
   "id": "cc72cffa",
   "metadata": {},
   "outputs": [
    {
     "data": {
      "text/plain": [
       "57241"
      ]
     },
     "execution_count": 15,
     "metadata": {},
     "output_type": "execute_result"
    }
   ],
   "source": [
    "#there are some empty values in complaint_list\n",
    "len(df[df['complaint_list']==''])"
   ]
  },
  {
   "cell_type": "code",
   "execution_count": 16,
   "id": "8f2ff22d",
   "metadata": {},
   "outputs": [
    {
     "data": {
      "text/plain": [
       "57241"
      ]
     },
     "execution_count": 16,
     "metadata": {},
     "output_type": "execute_result"
    }
   ],
   "source": [
    "#deal with empty values by assinging with nan values\n",
    "df[df['complaint_list']==''] = np.nan\n",
    "df['complaint_list'].isnull().sum()"
   ]
  },
  {
   "cell_type": "code",
   "execution_count": 17,
   "id": "95228b47",
   "metadata": {},
   "outputs": [
    {
     "data": {
      "text/plain": [
       "0"
      ]
     },
     "execution_count": 17,
     "metadata": {},
     "output_type": "execute_result"
    }
   ],
   "source": [
    "# as missing values are more so we can go ahead with drop method\n",
    "# df = df['complaint_list'].dropna()\n",
    "df = df[~df['complaint_list'].isnull()]\n",
    "df['complaint_list'].isnull().sum()"
   ]
  },
  {
   "cell_type": "markdown",
   "id": "7a3c1e50",
   "metadata": {},
   "source": [
    "Now our data is ready for NLP's pipeline"
   ]
  },
  {
   "cell_type": "markdown",
   "id": "4b4254ca",
   "metadata": {},
   "source": [
    "### Text Data Pre-Processing"
   ]
  },
  {
   "cell_type": "code",
   "execution_count": 19,
   "id": "c04e424c",
   "metadata": {},
   "outputs": [],
   "source": [
    "def pre_processing(text):\n",
    "    text = text.lower() #lower case\n",
    "    re_punc= re.compile('[%s]' % re.escape(string.punctuation))\n",
    "    text = re_punc.sub('',text) #remove punctuation\n",
    "    text = re.sub('\\S*\\d\\S*s*', '', text)\n",
    "    return text.strip()"
   ]
  },
  {
   "cell_type": "code",
   "execution_count": 20,
   "id": "269cbf6b",
   "metadata": {},
   "outputs": [],
   "source": [
    "df['complaint_list'] = df['complaint_list'].apply(lambda i: pre_processing(i))"
   ]
  },
  {
   "cell_type": "code",
   "execution_count": null,
   "id": "f92f5eee",
   "metadata": {},
   "outputs": [],
   "source": [
    "# df['token_complaint'] = df['complaint_list'].apply(word_tokenize)"
   ]
  },
  {
   "cell_type": "code",
   "execution_count": 21,
   "id": "3a754772",
   "metadata": {},
   "outputs": [
    {
     "data": {
      "text/html": [
       "<div>\n",
       "<style scoped>\n",
       "    .dataframe tbody tr th:only-of-type {\n",
       "        vertical-align: middle;\n",
       "    }\n",
       "\n",
       "    .dataframe tbody tr th {\n",
       "        vertical-align: top;\n",
       "    }\n",
       "\n",
       "    .dataframe thead th {\n",
       "        text-align: right;\n",
       "    }\n",
       "</style>\n",
       "<table border=\"1\" class=\"dataframe\">\n",
       "  <thead>\n",
       "    <tr style=\"text-align: right;\">\n",
       "      <th></th>\n",
       "      <th>complaint_list</th>\n",
       "      <th>product_subproduct</th>\n",
       "    </tr>\n",
       "  </thead>\n",
       "  <tbody>\n",
       "    <tr>\n",
       "      <th>1</th>\n",
       "      <td>good morning my name is xxxx xxxx and i apprec...</td>\n",
       "      <td>Debt collection_Credit card debt</td>\n",
       "    </tr>\n",
       "    <tr>\n",
       "      <th>2</th>\n",
       "      <td>i upgraded my xxxx xxxx card in  and was told ...</td>\n",
       "      <td>Credit card or prepaid card_General-purpose cr...</td>\n",
       "    </tr>\n",
       "    <tr>\n",
       "      <th>10</th>\n",
       "      <td>chase card was reported on  however fraudulent...</td>\n",
       "      <td>Credit reporting, credit repair services, or o...</td>\n",
       "    </tr>\n",
       "    <tr>\n",
       "      <th>11</th>\n",
       "      <td>on  while trying to book a xxxx  xxxx  ticket ...</td>\n",
       "      <td>Credit reporting, credit repair services, or o...</td>\n",
       "    </tr>\n",
       "    <tr>\n",
       "      <th>14</th>\n",
       "      <td>my grand son give me check for  i deposit it i...</td>\n",
       "      <td>Checking or savings account_Checking account</td>\n",
       "    </tr>\n",
       "  </tbody>\n",
       "</table>\n",
       "</div>"
      ],
      "text/plain": [
       "                                       complaint_list  \\\n",
       "1   good morning my name is xxxx xxxx and i apprec...   \n",
       "2   i upgraded my xxxx xxxx card in  and was told ...   \n",
       "10  chase card was reported on  however fraudulent...   \n",
       "11  on  while trying to book a xxxx  xxxx  ticket ...   \n",
       "14  my grand son give me check for  i deposit it i...   \n",
       "\n",
       "                                   product_subproduct  \n",
       "1                    Debt collection_Credit card debt  \n",
       "2   Credit card or prepaid card_General-purpose cr...  \n",
       "10  Credit reporting, credit repair services, or o...  \n",
       "11  Credit reporting, credit repair services, or o...  \n",
       "14       Checking or savings account_Checking account  "
      ]
     },
     "execution_count": 21,
     "metadata": {},
     "output_type": "execute_result"
    }
   ],
   "source": [
    "df.head()"
   ]
  },
  {
   "cell_type": "code",
   "execution_count": null,
   "id": "0d4ec9d2",
   "metadata": {},
   "outputs": [],
   "source": [
    "# lemmatizer = WordNetLemmatizer()\n",
    "# df['token_complaint'] = df['token_complaint'].astype(str)\n",
    "# df['lemma_complaint'] = ''.join([lemmatizer.lemmatize(w) for w in df['token_complaint']])"
   ]
  },
  {
   "cell_type": "code",
   "execution_count": 22,
   "id": "6073cea0",
   "metadata": {},
   "outputs": [
    {
     "name": "stderr",
     "output_type": "stream",
     "text": [
      "C:\\Users\\sagar_bhamburkar\\Anaconda3\\lib\\site-packages\\spacy\\util.py:837: UserWarning: [W095] Model 'en_core_web_sm' (3.2.0) was trained with spaCy v3.2 and may not be 100% compatible with the current version (3.3.1). If you see errors or degraded performance, download a newer compatible model or retrain your custom model with the current spaCy version. For more details and available updates, run: python -m spacy validate\n",
      "  warnings.warn(warn_msg)\n"
     ]
    }
   ],
   "source": [
    "nlp=spacy.load('en_core_web_sm')\n",
    "stopwords = nlp.Defaults.stop_words\n",
    "def lemma_processing(text):\n",
    "    doc = nlp(text)\n",
    "    lemma = [token.lemma_ for token in doc if not token.text in set(stopwords)]\n",
    "    return  ' '.join(lemma)"
   ]
  },
  {
   "cell_type": "code",
   "execution_count": 23,
   "id": "2a3e2156",
   "metadata": {},
   "outputs": [
    {
     "name": "stdout",
     "output_type": "stream",
     "text": [
      "32.85  minutes...\n"
     ]
    }
   ],
   "source": [
    "import time\n",
    "time_start1 = round(time.time())\n",
    "\n",
    "df['complaint_lemma'] = df['complaint_list'].apply(lambda i: lemma_processing(i))\n",
    "\n",
    "time_end1 = round(time.time())\n",
    "time_elapsed1 = time_end1 - time_start1\n",
    "print(time_elapsed1/60,' minutes...')\n",
    "#it takes more time"
   ]
  },
  {
   "cell_type": "code",
   "execution_count": 24,
   "id": "d038702c",
   "metadata": {},
   "outputs": [
    {
     "data": {
      "text/html": [
       "<div>\n",
       "<style scoped>\n",
       "    .dataframe tbody tr th:only-of-type {\n",
       "        vertical-align: middle;\n",
       "    }\n",
       "\n",
       "    .dataframe tbody tr th {\n",
       "        vertical-align: top;\n",
       "    }\n",
       "\n",
       "    .dataframe thead th {\n",
       "        text-align: right;\n",
       "    }\n",
       "</style>\n",
       "<table border=\"1\" class=\"dataframe\">\n",
       "  <thead>\n",
       "    <tr style=\"text-align: right;\">\n",
       "      <th></th>\n",
       "      <th>complaint_list</th>\n",
       "      <th>product_subproduct</th>\n",
       "      <th>complaint_lemma</th>\n",
       "    </tr>\n",
       "  </thead>\n",
       "  <tbody>\n",
       "    <tr>\n",
       "      <th>1</th>\n",
       "      <td>good morning my name is xxxx xxxx and i apprec...</td>\n",
       "      <td>Debt collection_Credit card debt</td>\n",
       "      <td>good morning xxxx xxxx appreciate help stop ch...</td>\n",
       "    </tr>\n",
       "    <tr>\n",
       "      <th>2</th>\n",
       "      <td>i upgraded my xxxx xxxx card in  and was told ...</td>\n",
       "      <td>Credit card or prepaid card_General-purpose cr...</td>\n",
       "      <td>upgrade xxxx xxxx card   tell agent upgrade an...</td>\n",
       "    </tr>\n",
       "    <tr>\n",
       "      <th>10</th>\n",
       "      <td>chase card was reported on  however fraudulent...</td>\n",
       "      <td>Credit reporting, credit repair services, or o...</td>\n",
       "      <td>chase card report   fraudulent application sub...</td>\n",
       "    </tr>\n",
       "    <tr>\n",
       "      <th>11</th>\n",
       "      <td>on  while trying to book a xxxx  xxxx  ticket ...</td>\n",
       "      <td>Credit reporting, credit repair services, or o...</td>\n",
       "      <td>try book xxxx   xxxx   ticket come offer   a...</td>\n",
       "    </tr>\n",
       "    <tr>\n",
       "      <th>14</th>\n",
       "      <td>my grand son give me check for  i deposit it i...</td>\n",
       "      <td>Checking or savings account_Checking account</td>\n",
       "      <td>grand son check   deposit chase account fund c...</td>\n",
       "    </tr>\n",
       "  </tbody>\n",
       "</table>\n",
       "</div>"
      ],
      "text/plain": [
       "                                       complaint_list  \\\n",
       "1   good morning my name is xxxx xxxx and i apprec...   \n",
       "2   i upgraded my xxxx xxxx card in  and was told ...   \n",
       "10  chase card was reported on  however fraudulent...   \n",
       "11  on  while trying to book a xxxx  xxxx  ticket ...   \n",
       "14  my grand son give me check for  i deposit it i...   \n",
       "\n",
       "                                   product_subproduct  \\\n",
       "1                    Debt collection_Credit card debt   \n",
       "2   Credit card or prepaid card_General-purpose cr...   \n",
       "10  Credit reporting, credit repair services, or o...   \n",
       "11  Credit reporting, credit repair services, or o...   \n",
       "14       Checking or savings account_Checking account   \n",
       "\n",
       "                                      complaint_lemma  \n",
       "1   good morning xxxx xxxx appreciate help stop ch...  \n",
       "2   upgrade xxxx xxxx card   tell agent upgrade an...  \n",
       "10  chase card report   fraudulent application sub...  \n",
       "11    try book xxxx   xxxx   ticket come offer   a...  \n",
       "14  grand son check   deposit chase account fund c...  "
      ]
     },
     "execution_count": 24,
     "metadata": {},
     "output_type": "execute_result"
    }
   ],
   "source": [
    "df.head()"
   ]
  },
  {
   "cell_type": "code",
   "execution_count": 25,
   "id": "ba39dfeb",
   "metadata": {},
   "outputs": [
    {
     "data": {
      "text/plain": [
       "1     good morning xxxx xxxx appreciate help stop ch...\n",
       "2     upgrade xxxx xxxx card   tell agent upgrade an...\n",
       "10    chase card report   fraudulent application sub...\n",
       "11      try book xxxx   xxxx   ticket come offer   a...\n",
       "14    grand son check   deposit chase account fund c...\n",
       "15                                       remove inquiry\n",
       "17    notice jp morgan chase restrict account debit ...\n",
       "20    summer month experience decline income employm...\n",
       "21    xxxx     payment online retailer chase quick p...\n",
       "23    chase credit card incorrectly report datum cre...\n",
       "24                    mishandle account chase auto xxxx\n",
       "26    reach xxxx time attempt fraudulent inquiry rem...\n",
       "Name: complaint_lemma, dtype: object"
      ]
     },
     "execution_count": 25,
     "metadata": {},
     "output_type": "execute_result"
    }
   ],
   "source": [
    "df['complaint_lemma'].head(12)"
   ]
  },
  {
   "cell_type": "code",
   "execution_count": 33,
   "id": "6f8754a1",
   "metadata": {},
   "outputs": [
    {
     "name": "stderr",
     "output_type": "stream",
     "text": [
      "C:\\Users\\sagar_bhamburkar\\Anaconda3\\lib\\site-packages\\spacy\\util.py:837: UserWarning: [W095] Model 'en_core_web_sm' (3.2.0) was trained with spaCy v3.2 and may not be 100% compatible with the current version (3.3.1). If you see errors or degraded performance, download a newer compatible model or retrain your custom model with the current spaCy version. For more details and available updates, run: python -m spacy validate\n",
      "  warnings.warn(warn_msg)\n"
     ]
    }
   ],
   "source": [
    "#POS\n",
    "nlp=spacy.load('en_core_web_sm')\n",
    "\n",
    "def pos_tag(text):\n",
    "    doc = nlp(text)\n",
    "    sentences = [token.text for token in doc if token.tag_ == 'NN']\n",
    "    return ' '.join(sentences)"
   ]
  },
  {
   "cell_type": "code",
   "execution_count": 34,
   "id": "691ab15e",
   "metadata": {},
   "outputs": [
    {
     "name": "stdout",
     "output_type": "stream",
     "text": [
      "8.05  minutes...\n"
     ]
    },
    {
     "data": {
      "text/html": [
       "<div>\n",
       "<style scoped>\n",
       "    .dataframe tbody tr th:only-of-type {\n",
       "        vertical-align: middle;\n",
       "    }\n",
       "\n",
       "    .dataframe tbody tr th {\n",
       "        vertical-align: top;\n",
       "    }\n",
       "\n",
       "    .dataframe thead th {\n",
       "        text-align: right;\n",
       "    }\n",
       "</style>\n",
       "<table border=\"1\" class=\"dataframe\">\n",
       "  <thead>\n",
       "    <tr style=\"text-align: right;\">\n",
       "      <th></th>\n",
       "      <th>complaint_list</th>\n",
       "      <th>product_subproduct</th>\n",
       "      <th>complaint_lemma</th>\n",
       "      <th>cleaned_complaint</th>\n",
       "      <th>complaint_POS_removed</th>\n",
       "    </tr>\n",
       "  </thead>\n",
       "  <tbody>\n",
       "    <tr>\n",
       "      <th>1</th>\n",
       "      <td>good morning my name is xxxx xxxx and i apprec...</td>\n",
       "      <td>Debt collection_Credit card debt</td>\n",
       "      <td>good morning xxxx xxxx appreciate help stop ch...</td>\n",
       "      <td>morninghelpchasedebtverificationstatementbankv...</td>\n",
       "      <td>morning help chase debt verification statement...</td>\n",
       "    </tr>\n",
       "    <tr>\n",
       "      <th>2</th>\n",
       "      <td>i upgraded my xxxx xxxx card in  and was told ...</td>\n",
       "      <td>Credit card or prepaid card_General-purpose cr...</td>\n",
       "      <td>upgrade xxxx xxxx card   tell agent upgrade an...</td>\n",
       "      <td>xxxxcardagentupgradeanniversarydatechangeagent...</td>\n",
       "      <td>xxxx card agent upgrade anniversary date chang...</td>\n",
       "    </tr>\n",
       "    <tr>\n",
       "      <th>10</th>\n",
       "      <td>chase card was reported on  however fraudulent...</td>\n",
       "      <td>Credit reporting, credit repair services, or o...</td>\n",
       "      <td>chase card report   fraudulent application sub...</td>\n",
       "      <td>reportapplicationsubmitidentityconsentservicee...</td>\n",
       "      <td>report application submit identity consent ser...</td>\n",
       "    </tr>\n",
       "    <tr>\n",
       "      <th>11</th>\n",
       "      <td>on  while trying to book a xxxx  xxxx  ticket ...</td>\n",
       "      <td>Credit reporting, credit repair services, or o...</td>\n",
       "      <td>try book xxxx   xxxx   ticket come offer   a...</td>\n",
       "      <td>xxxxticketticketcardinformationminutenotifyscr...</td>\n",
       "      <td>xxxx ticket ticket card information minute not...</td>\n",
       "    </tr>\n",
       "    <tr>\n",
       "      <th>14</th>\n",
       "      <td>my grand son give me check for  i deposit it i...</td>\n",
       "      <td>Checking or savings account_Checking account</td>\n",
       "      <td>grand son check   deposit chase account fund c...</td>\n",
       "      <td>sonaccountpaymoneysonmoneymoneytimeverifycheck...</td>\n",
       "      <td>son account pay money son money money time ver...</td>\n",
       "    </tr>\n",
       "  </tbody>\n",
       "</table>\n",
       "</div>"
      ],
      "text/plain": [
       "                                       complaint_list  \\\n",
       "1   good morning my name is xxxx xxxx and i apprec...   \n",
       "2   i upgraded my xxxx xxxx card in  and was told ...   \n",
       "10  chase card was reported on  however fraudulent...   \n",
       "11  on  while trying to book a xxxx  xxxx  ticket ...   \n",
       "14  my grand son give me check for  i deposit it i...   \n",
       "\n",
       "                                   product_subproduct  \\\n",
       "1                    Debt collection_Credit card debt   \n",
       "2   Credit card or prepaid card_General-purpose cr...   \n",
       "10  Credit reporting, credit repair services, or o...   \n",
       "11  Credit reporting, credit repair services, or o...   \n",
       "14       Checking or savings account_Checking account   \n",
       "\n",
       "                                      complaint_lemma  \\\n",
       "1   good morning xxxx xxxx appreciate help stop ch...   \n",
       "2   upgrade xxxx xxxx card   tell agent upgrade an...   \n",
       "10  chase card report   fraudulent application sub...   \n",
       "11    try book xxxx   xxxx   ticket come offer   a...   \n",
       "14  grand son check   deposit chase account fund c...   \n",
       "\n",
       "                                    cleaned_complaint  \\\n",
       "1   morninghelpchasedebtverificationstatementbankv...   \n",
       "2   xxxxcardagentupgradeanniversarydatechangeagent...   \n",
       "10  reportapplicationsubmitidentityconsentservicee...   \n",
       "11  xxxxticketticketcardinformationminutenotifyscr...   \n",
       "14  sonaccountpaymoneysonmoneymoneytimeverifycheck...   \n",
       "\n",
       "                                complaint_POS_removed  \n",
       "1   morning help chase debt verification statement...  \n",
       "2   xxxx card agent upgrade anniversary date chang...  \n",
       "10  report application submit identity consent ser...  \n",
       "11  xxxx ticket ticket card information minute not...  \n",
       "14  son account pay money son money money time ver...  "
      ]
     },
     "execution_count": 34,
     "metadata": {},
     "output_type": "execute_result"
    }
   ],
   "source": [
    "import time\n",
    "\n",
    "time_start1 = round(time.time())\n",
    "df['complaint_lemma'] = df['complaint_lemma'].astype(str)\n",
    "\n",
    "df['complaint_POS_removed'] = df['complaint_lemma'].apply(lambda i: pos_tag(i))\n",
    "time_end1 = round(time.time())\n",
    "time_elapsed1 = time_end1 - time_start1\n",
    "print(time_elapsed1/60,' minutes...')\n",
    "df.head()"
   ]
  },
  {
   "cell_type": "code",
   "execution_count": 35,
   "id": "675d12ed",
   "metadata": {},
   "outputs": [
    {
     "data": {
      "text/plain": [
       "78294    concert ticket xxxx know risk lot question tic...\n",
       "78295    chase term condition price term card month acc...\n",
       "78296    file dispute credit card company visa purchase...\n",
       "78297    balance transfer apr rut godsend help debt int...\n",
       "78301    husband bank check rent car insurance ask need...\n",
       "78303    card customer decade solicitation credit card ...\n",
       "78309    credit card provider claim purchase protection...\n",
       "78310    pay risk consumer year banking tell deal merch...\n",
       "78311    credit credit card freedom problem balance tra...\n",
       "78312    year account order line credit account payment...\n",
       "Name: complaint_POS_removed, dtype: object"
      ]
     },
     "execution_count": 35,
     "metadata": {},
     "output_type": "execute_result"
    }
   ],
   "source": [
    "df['complaint_POS_removed'].tail(10)"
   ]
  },
  {
   "cell_type": "code",
   "execution_count": 36,
   "id": "ac65ac99",
   "metadata": {},
   "outputs": [
    {
     "data": {
      "text/plain": [
       "complaint_list           my husband passed away chase bank put check on...\n",
       "complaint_POS_removed    husband bank check rent car insurance ask need...\n",
       "Name: 78301, dtype: object"
      ]
     },
     "execution_count": 36,
     "metadata": {},
     "output_type": "execute_result"
    }
   ],
   "source": [
    "df[['complaint_list','complaint_POS_removed']].loc[78301]"
   ]
  },
  {
   "cell_type": "code",
   "execution_count": 37,
   "id": "2340c3b7",
   "metadata": {},
   "outputs": [],
   "source": [
    "#removing pron\n",
    "df['cleaned_complaint'] = df['complaint_POS_removed'].str.replace('-PRON-', '')\n",
    "df = df.drop(['complaint_POS_removed'], axis=1)"
   ]
  },
  {
   "cell_type": "code",
   "execution_count": 38,
   "id": "234d44f2",
   "metadata": {},
   "outputs": [
    {
     "data": {
      "text/plain": [
       "complaint_list       my husband passed away chase bank put check on...\n",
       "cleaned_complaint    husband bank check rent car insurance ask need...\n",
       "Name: 78301, dtype: object"
      ]
     },
     "execution_count": 38,
     "metadata": {},
     "output_type": "execute_result"
    }
   ],
   "source": [
    "df[['complaint_list','cleaned_complaint']].loc[78301]"
   ]
  },
  {
   "cell_type": "code",
   "execution_count": 39,
   "id": "701166ff",
   "metadata": {},
   "outputs": [
    {
     "data": {
      "text/html": [
       "<div>\n",
       "<style scoped>\n",
       "    .dataframe tbody tr th:only-of-type {\n",
       "        vertical-align: middle;\n",
       "    }\n",
       "\n",
       "    .dataframe tbody tr th {\n",
       "        vertical-align: top;\n",
       "    }\n",
       "\n",
       "    .dataframe thead th {\n",
       "        text-align: right;\n",
       "    }\n",
       "</style>\n",
       "<table border=\"1\" class=\"dataframe\">\n",
       "  <thead>\n",
       "    <tr style=\"text-align: right;\">\n",
       "      <th></th>\n",
       "      <th>complaint_list</th>\n",
       "      <th>product_subproduct</th>\n",
       "      <th>complaint_lemma</th>\n",
       "      <th>cleaned_complaint</th>\n",
       "    </tr>\n",
       "  </thead>\n",
       "  <tbody>\n",
       "    <tr>\n",
       "      <th>1</th>\n",
       "      <td>good morning my name is xxxx xxxx and i apprec...</td>\n",
       "      <td>Debt collection_Credit card debt</td>\n",
       "      <td>good morning xxxx xxxx appreciate help stop ch...</td>\n",
       "      <td>morning help chase debt verification statement...</td>\n",
       "    </tr>\n",
       "    <tr>\n",
       "      <th>2</th>\n",
       "      <td>i upgraded my xxxx xxxx card in  and was told ...</td>\n",
       "      <td>Credit card or prepaid card_General-purpose cr...</td>\n",
       "      <td>upgrade xxxx xxxx card   tell agent upgrade an...</td>\n",
       "      <td>card agent upgrade anniversary date change ag...</td>\n",
       "    </tr>\n",
       "    <tr>\n",
       "      <th>10</th>\n",
       "      <td>chase card was reported on  however fraudulent...</td>\n",
       "      <td>Credit reporting, credit repair services, or o...</td>\n",
       "      <td>chase card report   fraudulent application sub...</td>\n",
       "      <td>report application submit identity consent ser...</td>\n",
       "    </tr>\n",
       "    <tr>\n",
       "      <th>11</th>\n",
       "      <td>on  while trying to book a xxxx  xxxx  ticket ...</td>\n",
       "      <td>Credit reporting, credit repair services, or o...</td>\n",
       "      <td>try book xxxx   xxxx   ticket come offer   a...</td>\n",
       "      <td>ticket ticket card information minute notify ...</td>\n",
       "    </tr>\n",
       "    <tr>\n",
       "      <th>14</th>\n",
       "      <td>my grand son give me check for  i deposit it i...</td>\n",
       "      <td>Checking or savings account_Checking account</td>\n",
       "      <td>grand son check   deposit chase account fund c...</td>\n",
       "      <td>son account pay money son money money time ver...</td>\n",
       "    </tr>\n",
       "  </tbody>\n",
       "</table>\n",
       "</div>"
      ],
      "text/plain": [
       "                                       complaint_list  \\\n",
       "1   good morning my name is xxxx xxxx and i apprec...   \n",
       "2   i upgraded my xxxx xxxx card in  and was told ...   \n",
       "10  chase card was reported on  however fraudulent...   \n",
       "11  on  while trying to book a xxxx  xxxx  ticket ...   \n",
       "14  my grand son give me check for  i deposit it i...   \n",
       "\n",
       "                                   product_subproduct  \\\n",
       "1                    Debt collection_Credit card debt   \n",
       "2   Credit card or prepaid card_General-purpose cr...   \n",
       "10  Credit reporting, credit repair services, or o...   \n",
       "11  Credit reporting, credit repair services, or o...   \n",
       "14       Checking or savings account_Checking account   \n",
       "\n",
       "                                      complaint_lemma  \\\n",
       "1   good morning xxxx xxxx appreciate help stop ch...   \n",
       "2   upgrade xxxx xxxx card   tell agent upgrade an...   \n",
       "10  chase card report   fraudulent application sub...   \n",
       "11    try book xxxx   xxxx   ticket come offer   a...   \n",
       "14  grand son check   deposit chase account fund c...   \n",
       "\n",
       "                                    cleaned_complaint  \n",
       "1   morning help chase debt verification statement...  \n",
       "2    card agent upgrade anniversary date change ag...  \n",
       "10  report application submit identity consent ser...  \n",
       "11   ticket ticket card information minute notify ...  \n",
       "14  son account pay money son money money time ver...  "
      ]
     },
     "execution_count": 39,
     "metadata": {},
     "output_type": "execute_result"
    }
   ],
   "source": [
    "df['cleaned_complaint'] = df['cleaned_complaint'].str.replace('xxxx','')\n",
    "df.head()"
   ]
  },
  {
   "cell_type": "markdown",
   "id": "f15a434d",
   "metadata": {},
   "source": [
    "### TF-IDF vector"
   ]
  },
  {
   "cell_type": "code",
   "execution_count": 46,
   "id": "6ef3ab8a",
   "metadata": {},
   "outputs": [],
   "source": [
    "vectorizer = TfidfVectorizer(stop_words='english', min_df=2, max_df=0.9)  \n",
    "tfidf_vectors = vectorizer.fit_transform(df['cleaned_complaint'])"
   ]
  },
  {
   "cell_type": "code",
   "execution_count": 48,
   "id": "0e4f4f94",
   "metadata": {},
   "outputs": [
    {
     "data": {
      "text/plain": [
       "array([[0., 0., 0., ..., 0., 0., 0.],\n",
       "       [0., 0., 0., ..., 0., 0., 0.],\n",
       "       [0., 0., 0., ..., 0., 0., 0.],\n",
       "       ...,\n",
       "       [0., 0., 0., ..., 0., 0., 0.],\n",
       "       [0., 0., 0., ..., 0., 0., 0.],\n",
       "       [0., 0., 0., ..., 0., 0., 0.]])"
      ]
     },
     "execution_count": 48,
     "metadata": {},
     "output_type": "execute_result"
    }
   ],
   "source": [
    "tfidf_vectors.A"
   ]
  },
  {
   "cell_type": "markdown",
   "id": "a880423e",
   "metadata": {},
   "source": [
    "### NMF"
   ]
  },
  {
   "cell_type": "code",
   "execution_count": 49,
   "id": "f4a5d6c6",
   "metadata": {},
   "outputs": [],
   "source": [
    "from sklearn.decomposition import NMF"
   ]
  },
  {
   "cell_type": "code",
   "execution_count": 51,
   "id": "e78fd992",
   "metadata": {},
   "outputs": [
    {
     "name": "stderr",
     "output_type": "stream",
     "text": [
      "C:\\Users\\sagar_bhamburkar\\Anaconda3\\lib\\site-packages\\sklearn\\decomposition\\_nmf.py:312: FutureWarning: The 'init' value, when 'init=None' and n_components is less than n_samples and n_features, will be changed from 'nndsvd' to 'nndsvda' in 1.1 (renaming of 0.26).\n",
      "  warnings.warn((\"The 'init' value, when 'init=None' and \"\n"
     ]
    }
   ],
   "source": [
    "# num_topics = 5\n",
    "\n",
    "nmf_model = NMF(n_components=5, random_state=40)\n",
    "\n",
    "w1 = nmf_model.fit_transform(tfidf_vectors)\n",
    "h1 = nmf_model.components_"
   ]
  },
  {
   "cell_type": "code",
   "execution_count": 59,
   "id": "23657911",
   "metadata": {},
   "outputs": [],
   "source": [
    "#top 15 \n",
    "num_words = 15\n",
    "vocab = np.array(vectorizer.get_feature_names())\n",
    "\n",
    "top_words = lambda x: [vocab[i] for i in np.argsort(x)[:-num_words-1:-1]]\n",
    "topic_words = ([top_words(x) for x in h1])\n",
    "topics = [' '.join(x) for x in topic_words]"
   ]
  },
  {
   "cell_type": "code",
   "execution_count": 60,
   "id": "62691ee6",
   "metadata": {},
   "outputs": [
    {
     "data": {
      "text/plain": [
       "array(['aa', 'aarp', 'abandon', ..., 'zombie', 'zone', 'zoom'],\n",
       "      dtype='<U24')"
      ]
     },
     "execution_count": 60,
     "metadata": {},
     "output_type": "execute_result"
    }
   ],
   "source": [
    "vocab"
   ]
  },
  {
   "cell_type": "code",
   "execution_count": 61,
   "id": "5aa672e9",
   "metadata": {},
   "outputs": [
    {
     "data": {
      "text/plain": [
       "['account check money deposit fund bank chase day branch transfer number business transaction customer time',\n",
       " 'credit card report inquiry account score chase company information debt remove limit application letter year',\n",
       " 'payment balance pay month statement fee day time chase auto date credit mortgage year account',\n",
       " 'charge card dispute fee chase transaction purchase merchant refund service fraud time claim statement email',\n",
       " 'loan mortgage chase home modification property year letter document rate time request foreclosure sale information']"
      ]
     },
     "execution_count": 61,
     "metadata": {},
     "output_type": "execute_result"
    }
   ],
   "source": [
    "topics"
   ]
  },
  {
   "cell_type": "code",
   "execution_count": 63,
   "id": "ad957ce2",
   "metadata": {},
   "outputs": [],
   "source": [
    "#for proper arrangement\n",
    "#to create best topic for each complaint\n",
    "\n",
    "colnames = ['Topic' + str(i) for i in range(nmf_model.n_components)]\n",
    "docnames = ['Doc' + str(i) for i in range(len(df['cleaned_complaint']))]\n",
    "df_topic = pd.DataFrame(np.round(w1,2), columns=colnames, index=docnames)\n",
    "significant_topic = np.argmax(df_topic.values, axis=1)\n",
    "df_topic['dominant_topic'] = significant_topic"
   ]
  },
  {
   "cell_type": "code",
   "execution_count": 65,
   "id": "45a72e08",
   "metadata": {},
   "outputs": [
    {
     "data": {
      "text/html": [
       "<div>\n",
       "<style scoped>\n",
       "    .dataframe tbody tr th:only-of-type {\n",
       "        vertical-align: middle;\n",
       "    }\n",
       "\n",
       "    .dataframe tbody tr th {\n",
       "        vertical-align: top;\n",
       "    }\n",
       "\n",
       "    .dataframe thead th {\n",
       "        text-align: right;\n",
       "    }\n",
       "</style>\n",
       "<table border=\"1\" class=\"dataframe\">\n",
       "  <thead>\n",
       "    <tr style=\"text-align: right;\">\n",
       "      <th></th>\n",
       "      <th>Topic0</th>\n",
       "      <th>Topic1</th>\n",
       "      <th>Topic2</th>\n",
       "      <th>Topic3</th>\n",
       "      <th>Topic4</th>\n",
       "      <th>dominant_topic</th>\n",
       "    </tr>\n",
       "  </thead>\n",
       "  <tbody>\n",
       "    <tr>\n",
       "      <th>Doc0</th>\n",
       "      <td>0.01</td>\n",
       "      <td>0.01</td>\n",
       "      <td>0.01</td>\n",
       "      <td>0.01</td>\n",
       "      <td>0.03</td>\n",
       "      <td>4</td>\n",
       "    </tr>\n",
       "    <tr>\n",
       "      <th>Doc1</th>\n",
       "      <td>0.01</td>\n",
       "      <td>0.01</td>\n",
       "      <td>0.00</td>\n",
       "      <td>0.01</td>\n",
       "      <td>0.01</td>\n",
       "      <td>0</td>\n",
       "    </tr>\n",
       "    <tr>\n",
       "      <th>Doc2</th>\n",
       "      <td>0.00</td>\n",
       "      <td>0.05</td>\n",
       "      <td>0.00</td>\n",
       "      <td>0.00</td>\n",
       "      <td>0.00</td>\n",
       "      <td>1</td>\n",
       "    </tr>\n",
       "    <tr>\n",
       "      <th>Doc3</th>\n",
       "      <td>0.02</td>\n",
       "      <td>0.07</td>\n",
       "      <td>0.00</td>\n",
       "      <td>0.00</td>\n",
       "      <td>0.02</td>\n",
       "      <td>1</td>\n",
       "    </tr>\n",
       "    <tr>\n",
       "      <th>Doc4</th>\n",
       "      <td>0.05</td>\n",
       "      <td>0.00</td>\n",
       "      <td>0.00</td>\n",
       "      <td>0.00</td>\n",
       "      <td>0.01</td>\n",
       "      <td>0</td>\n",
       "    </tr>\n",
       "    <tr>\n",
       "      <th>...</th>\n",
       "      <td>...</td>\n",
       "      <td>...</td>\n",
       "      <td>...</td>\n",
       "      <td>...</td>\n",
       "      <td>...</td>\n",
       "      <td>...</td>\n",
       "    </tr>\n",
       "    <tr>\n",
       "      <th>Doc21067</th>\n",
       "      <td>0.00</td>\n",
       "      <td>0.07</td>\n",
       "      <td>0.02</td>\n",
       "      <td>0.06</td>\n",
       "      <td>0.00</td>\n",
       "      <td>1</td>\n",
       "    </tr>\n",
       "    <tr>\n",
       "      <th>Doc21068</th>\n",
       "      <td>0.01</td>\n",
       "      <td>0.01</td>\n",
       "      <td>0.00</td>\n",
       "      <td>0.03</td>\n",
       "      <td>0.02</td>\n",
       "      <td>3</td>\n",
       "    </tr>\n",
       "    <tr>\n",
       "      <th>Doc21069</th>\n",
       "      <td>0.02</td>\n",
       "      <td>0.02</td>\n",
       "      <td>0.00</td>\n",
       "      <td>0.02</td>\n",
       "      <td>0.01</td>\n",
       "      <td>0</td>\n",
       "    </tr>\n",
       "    <tr>\n",
       "      <th>Doc21070</th>\n",
       "      <td>0.00</td>\n",
       "      <td>0.05</td>\n",
       "      <td>0.11</td>\n",
       "      <td>0.03</td>\n",
       "      <td>0.00</td>\n",
       "      <td>2</td>\n",
       "    </tr>\n",
       "    <tr>\n",
       "      <th>Doc21071</th>\n",
       "      <td>0.02</td>\n",
       "      <td>0.03</td>\n",
       "      <td>0.10</td>\n",
       "      <td>0.01</td>\n",
       "      <td>0.00</td>\n",
       "      <td>2</td>\n",
       "    </tr>\n",
       "  </tbody>\n",
       "</table>\n",
       "<p>21072 rows × 6 columns</p>\n",
       "</div>"
      ],
      "text/plain": [
       "          Topic0  Topic1  Topic2  Topic3  Topic4  dominant_topic\n",
       "Doc0        0.01    0.01    0.01    0.01    0.03               4\n",
       "Doc1        0.01    0.01    0.00    0.01    0.01               0\n",
       "Doc2        0.00    0.05    0.00    0.00    0.00               1\n",
       "Doc3        0.02    0.07    0.00    0.00    0.02               1\n",
       "Doc4        0.05    0.00    0.00    0.00    0.01               0\n",
       "...          ...     ...     ...     ...     ...             ...\n",
       "Doc21067    0.00    0.07    0.02    0.06    0.00               1\n",
       "Doc21068    0.01    0.01    0.00    0.03    0.02               3\n",
       "Doc21069    0.02    0.02    0.00    0.02    0.01               0\n",
       "Doc21070    0.00    0.05    0.11    0.03    0.00               2\n",
       "Doc21071    0.02    0.03    0.10    0.01    0.00               2\n",
       "\n",
       "[21072 rows x 6 columns]"
      ]
     },
     "execution_count": 65,
     "metadata": {},
     "output_type": "execute_result"
    }
   ],
   "source": [
    "df_topic"
   ]
  },
  {
   "cell_type": "code",
   "execution_count": 66,
   "id": "e9230d25",
   "metadata": {},
   "outputs": [],
   "source": [
    "df['Topic'] = significant_topic"
   ]
  },
  {
   "cell_type": "code",
   "execution_count": 67,
   "id": "5f0973e7",
   "metadata": {},
   "outputs": [
    {
     "data": {
      "text/html": [
       "<div>\n",
       "<style scoped>\n",
       "    .dataframe tbody tr th:only-of-type {\n",
       "        vertical-align: middle;\n",
       "    }\n",
       "\n",
       "    .dataframe tbody tr th {\n",
       "        vertical-align: top;\n",
       "    }\n",
       "\n",
       "    .dataframe thead th {\n",
       "        text-align: right;\n",
       "    }\n",
       "</style>\n",
       "<table border=\"1\" class=\"dataframe\">\n",
       "  <thead>\n",
       "    <tr style=\"text-align: right;\">\n",
       "      <th></th>\n",
       "      <th>complaint_list</th>\n",
       "      <th>product_subproduct</th>\n",
       "      <th>complaint_lemma</th>\n",
       "      <th>cleaned_complaint</th>\n",
       "      <th>Topic</th>\n",
       "    </tr>\n",
       "  </thead>\n",
       "  <tbody>\n",
       "    <tr>\n",
       "      <th>1</th>\n",
       "      <td>good morning my name is xxxx xxxx and i apprec...</td>\n",
       "      <td>Debt collection_Credit card debt</td>\n",
       "      <td>good morning xxxx xxxx appreciate help stop ch...</td>\n",
       "      <td>morning help chase debt verification statement...</td>\n",
       "      <td>4</td>\n",
       "    </tr>\n",
       "    <tr>\n",
       "      <th>2</th>\n",
       "      <td>i upgraded my xxxx xxxx card in  and was told ...</td>\n",
       "      <td>Credit card or prepaid card_General-purpose cr...</td>\n",
       "      <td>upgrade xxxx xxxx card   tell agent upgrade an...</td>\n",
       "      <td>card agent upgrade anniversary date change ag...</td>\n",
       "      <td>0</td>\n",
       "    </tr>\n",
       "    <tr>\n",
       "      <th>10</th>\n",
       "      <td>chase card was reported on  however fraudulent...</td>\n",
       "      <td>Credit reporting, credit repair services, or o...</td>\n",
       "      <td>chase card report   fraudulent application sub...</td>\n",
       "      <td>report application submit identity consent ser...</td>\n",
       "      <td>1</td>\n",
       "    </tr>\n",
       "    <tr>\n",
       "      <th>11</th>\n",
       "      <td>on  while trying to book a xxxx  xxxx  ticket ...</td>\n",
       "      <td>Credit reporting, credit repair services, or o...</td>\n",
       "      <td>try book xxxx   xxxx   ticket come offer   a...</td>\n",
       "      <td>ticket ticket card information minute notify ...</td>\n",
       "      <td>1</td>\n",
       "    </tr>\n",
       "    <tr>\n",
       "      <th>14</th>\n",
       "      <td>my grand son give me check for  i deposit it i...</td>\n",
       "      <td>Checking or savings account_Checking account</td>\n",
       "      <td>grand son check   deposit chase account fund c...</td>\n",
       "      <td>son account pay money son money money time ver...</td>\n",
       "      <td>0</td>\n",
       "    </tr>\n",
       "  </tbody>\n",
       "</table>\n",
       "</div>"
      ],
      "text/plain": [
       "                                       complaint_list  \\\n",
       "1   good morning my name is xxxx xxxx and i apprec...   \n",
       "2   i upgraded my xxxx xxxx card in  and was told ...   \n",
       "10  chase card was reported on  however fraudulent...   \n",
       "11  on  while trying to book a xxxx  xxxx  ticket ...   \n",
       "14  my grand son give me check for  i deposit it i...   \n",
       "\n",
       "                                   product_subproduct  \\\n",
       "1                    Debt collection_Credit card debt   \n",
       "2   Credit card or prepaid card_General-purpose cr...   \n",
       "10  Credit reporting, credit repair services, or o...   \n",
       "11  Credit reporting, credit repair services, or o...   \n",
       "14       Checking or savings account_Checking account   \n",
       "\n",
       "                                      complaint_lemma  \\\n",
       "1   good morning xxxx xxxx appreciate help stop ch...   \n",
       "2   upgrade xxxx xxxx card   tell agent upgrade an...   \n",
       "10  chase card report   fraudulent application sub...   \n",
       "11    try book xxxx   xxxx   ticket come offer   a...   \n",
       "14  grand son check   deposit chase account fund c...   \n",
       "\n",
       "                                    cleaned_complaint  Topic  \n",
       "1   morning help chase debt verification statement...      4  \n",
       "2    card agent upgrade anniversary date change ag...      0  \n",
       "10  report application submit identity consent ser...      1  \n",
       "11   ticket ticket card information minute notify ...      1  \n",
       "14  son account pay money son money money time ver...      0  "
      ]
     },
     "execution_count": 67,
     "metadata": {},
     "output_type": "execute_result"
    }
   ],
   "source": [
    "df.head()"
   ]
  },
  {
   "cell_type": "code",
   "execution_count": 68,
   "id": "c770bdaf",
   "metadata": {},
   "outputs": [
    {
     "data": {
      "text/plain": [
       "0    5597\n",
       "1    4994\n",
       "3    4581\n",
       "4    3605\n",
       "2    2295\n",
       "Name: Topic, dtype: int64"
      ]
     },
     "execution_count": 68,
     "metadata": {},
     "output_type": "execute_result"
    }
   ],
   "source": [
    "df['Topic'].value_counts()"
   ]
  },
  {
   "cell_type": "code",
   "execution_count": 70,
   "id": "af0ed17a",
   "metadata": {},
   "outputs": [],
   "source": [
    "#assign complaint's name with topics\n",
    "topics = { \n",
    "    0: 'Banking services', \n",
    "    1: 'Credit Card / Prepaid Card', \n",
    "    2: 'Others', \n",
    "    3: 'Theft/Dispute Reporting', \n",
    "    4: 'Mortgage/Loan'\n",
    "}\n",
    "\n",
    "df['Topic'] = df['Topic'].map(topics)"
   ]
  },
  {
   "cell_type": "code",
   "execution_count": 71,
   "id": "4f1ea9c5",
   "metadata": {},
   "outputs": [
    {
     "data": {
      "text/html": [
       "<div>\n",
       "<style scoped>\n",
       "    .dataframe tbody tr th:only-of-type {\n",
       "        vertical-align: middle;\n",
       "    }\n",
       "\n",
       "    .dataframe tbody tr th {\n",
       "        vertical-align: top;\n",
       "    }\n",
       "\n",
       "    .dataframe thead th {\n",
       "        text-align: right;\n",
       "    }\n",
       "</style>\n",
       "<table border=\"1\" class=\"dataframe\">\n",
       "  <thead>\n",
       "    <tr style=\"text-align: right;\">\n",
       "      <th></th>\n",
       "      <th>complaint_list</th>\n",
       "      <th>product_subproduct</th>\n",
       "      <th>complaint_lemma</th>\n",
       "      <th>cleaned_complaint</th>\n",
       "      <th>Topic</th>\n",
       "    </tr>\n",
       "  </thead>\n",
       "  <tbody>\n",
       "    <tr>\n",
       "      <th>1</th>\n",
       "      <td>good morning my name is xxxx xxxx and i apprec...</td>\n",
       "      <td>Debt collection_Credit card debt</td>\n",
       "      <td>good morning xxxx xxxx appreciate help stop ch...</td>\n",
       "      <td>morning help chase debt verification statement...</td>\n",
       "      <td>Mortgage/Loan</td>\n",
       "    </tr>\n",
       "    <tr>\n",
       "      <th>2</th>\n",
       "      <td>i upgraded my xxxx xxxx card in  and was told ...</td>\n",
       "      <td>Credit card or prepaid card_General-purpose cr...</td>\n",
       "      <td>upgrade xxxx xxxx card   tell agent upgrade an...</td>\n",
       "      <td>card agent upgrade anniversary date change ag...</td>\n",
       "      <td>Banking services</td>\n",
       "    </tr>\n",
       "    <tr>\n",
       "      <th>10</th>\n",
       "      <td>chase card was reported on  however fraudulent...</td>\n",
       "      <td>Credit reporting, credit repair services, or o...</td>\n",
       "      <td>chase card report   fraudulent application sub...</td>\n",
       "      <td>report application submit identity consent ser...</td>\n",
       "      <td>Credit Card / Prepaid Card</td>\n",
       "    </tr>\n",
       "    <tr>\n",
       "      <th>11</th>\n",
       "      <td>on  while trying to book a xxxx  xxxx  ticket ...</td>\n",
       "      <td>Credit reporting, credit repair services, or o...</td>\n",
       "      <td>try book xxxx   xxxx   ticket come offer   a...</td>\n",
       "      <td>ticket ticket card information minute notify ...</td>\n",
       "      <td>Credit Card / Prepaid Card</td>\n",
       "    </tr>\n",
       "    <tr>\n",
       "      <th>14</th>\n",
       "      <td>my grand son give me check for  i deposit it i...</td>\n",
       "      <td>Checking or savings account_Checking account</td>\n",
       "      <td>grand son check   deposit chase account fund c...</td>\n",
       "      <td>son account pay money son money money time ver...</td>\n",
       "      <td>Banking services</td>\n",
       "    </tr>\n",
       "  </tbody>\n",
       "</table>\n",
       "</div>"
      ],
      "text/plain": [
       "                                       complaint_list  \\\n",
       "1   good morning my name is xxxx xxxx and i apprec...   \n",
       "2   i upgraded my xxxx xxxx card in  and was told ...   \n",
       "10  chase card was reported on  however fraudulent...   \n",
       "11  on  while trying to book a xxxx  xxxx  ticket ...   \n",
       "14  my grand son give me check for  i deposit it i...   \n",
       "\n",
       "                                   product_subproduct  \\\n",
       "1                    Debt collection_Credit card debt   \n",
       "2   Credit card or prepaid card_General-purpose cr...   \n",
       "10  Credit reporting, credit repair services, or o...   \n",
       "11  Credit reporting, credit repair services, or o...   \n",
       "14       Checking or savings account_Checking account   \n",
       "\n",
       "                                      complaint_lemma  \\\n",
       "1   good morning xxxx xxxx appreciate help stop ch...   \n",
       "2   upgrade xxxx xxxx card   tell agent upgrade an...   \n",
       "10  chase card report   fraudulent application sub...   \n",
       "11    try book xxxx   xxxx   ticket come offer   a...   \n",
       "14  grand son check   deposit chase account fund c...   \n",
       "\n",
       "                                    cleaned_complaint  \\\n",
       "1   morning help chase debt verification statement...   \n",
       "2    card agent upgrade anniversary date change ag...   \n",
       "10  report application submit identity consent ser...   \n",
       "11   ticket ticket card information minute notify ...   \n",
       "14  son account pay money son money money time ver...   \n",
       "\n",
       "                         Topic  \n",
       "1                Mortgage/Loan  \n",
       "2             Banking services  \n",
       "10  Credit Card / Prepaid Card  \n",
       "11  Credit Card / Prepaid Card  \n",
       "14            Banking services  "
      ]
     },
     "execution_count": 71,
     "metadata": {},
     "output_type": "execute_result"
    }
   ],
   "source": [
    "df.head()"
   ]
  },
  {
   "cell_type": "code",
   "execution_count": 72,
   "id": "a49ecda0",
   "metadata": {},
   "outputs": [
    {
     "data": {
      "text/plain": [
       "Banking services              5597\n",
       "Credit Card / Prepaid Card    4994\n",
       "Theft/Dispute Reporting       4581\n",
       "Mortgage/Loan                 3605\n",
       "Others                        2295\n",
       "Name: Topic, dtype: int64"
      ]
     },
     "execution_count": 72,
     "metadata": {},
     "output_type": "execute_result"
    }
   ],
   "source": [
    "df['Topic'].value_counts()"
   ]
  },
  {
   "cell_type": "markdown",
   "id": "cde2253d",
   "metadata": {},
   "source": [
    "### Training phase"
   ]
  },
  {
   "cell_type": "code",
   "execution_count": 75,
   "id": "7ccbc8c5",
   "metadata": {},
   "outputs": [],
   "source": [
    "train_data = df[['complaint_list', 'Topic']]"
   ]
  },
  {
   "cell_type": "code",
   "execution_count": 76,
   "id": "9192cf3d",
   "metadata": {},
   "outputs": [
    {
     "data": {
      "text/html": [
       "<div>\n",
       "<style scoped>\n",
       "    .dataframe tbody tr th:only-of-type {\n",
       "        vertical-align: middle;\n",
       "    }\n",
       "\n",
       "    .dataframe tbody tr th {\n",
       "        vertical-align: top;\n",
       "    }\n",
       "\n",
       "    .dataframe thead th {\n",
       "        text-align: right;\n",
       "    }\n",
       "</style>\n",
       "<table border=\"1\" class=\"dataframe\">\n",
       "  <thead>\n",
       "    <tr style=\"text-align: right;\">\n",
       "      <th></th>\n",
       "      <th>complaint_list</th>\n",
       "      <th>Topic</th>\n",
       "    </tr>\n",
       "  </thead>\n",
       "  <tbody>\n",
       "    <tr>\n",
       "      <th>1</th>\n",
       "      <td>good morning my name is xxxx xxxx and i apprec...</td>\n",
       "      <td>Mortgage/Loan</td>\n",
       "    </tr>\n",
       "    <tr>\n",
       "      <th>2</th>\n",
       "      <td>i upgraded my xxxx xxxx card in  and was told ...</td>\n",
       "      <td>Banking services</td>\n",
       "    </tr>\n",
       "    <tr>\n",
       "      <th>10</th>\n",
       "      <td>chase card was reported on  however fraudulent...</td>\n",
       "      <td>Credit Card / Prepaid Card</td>\n",
       "    </tr>\n",
       "    <tr>\n",
       "      <th>11</th>\n",
       "      <td>on  while trying to book a xxxx  xxxx  ticket ...</td>\n",
       "      <td>Credit Card / Prepaid Card</td>\n",
       "    </tr>\n",
       "    <tr>\n",
       "      <th>14</th>\n",
       "      <td>my grand son give me check for  i deposit it i...</td>\n",
       "      <td>Banking services</td>\n",
       "    </tr>\n",
       "    <tr>\n",
       "      <th>...</th>\n",
       "      <td>...</td>\n",
       "      <td>...</td>\n",
       "    </tr>\n",
       "    <tr>\n",
       "      <th>78303</th>\n",
       "      <td>after being a chase card customer for well ove...</td>\n",
       "      <td>Credit Card / Prepaid Card</td>\n",
       "    </tr>\n",
       "    <tr>\n",
       "      <th>78309</th>\n",
       "      <td>on wednesday xxxxxxxx i called chas my xxxx xx...</td>\n",
       "      <td>Theft/Dispute Reporting</td>\n",
       "    </tr>\n",
       "    <tr>\n",
       "      <th>78310</th>\n",
       "      <td>i am not familiar with xxxx pay and did not un...</td>\n",
       "      <td>Banking services</td>\n",
       "    </tr>\n",
       "    <tr>\n",
       "      <th>78311</th>\n",
       "      <td>i have had flawless credit for  yrs ive had ch...</td>\n",
       "      <td>Others</td>\n",
       "    </tr>\n",
       "    <tr>\n",
       "      <th>78312</th>\n",
       "      <td>roughly  years ago i closed out my accounts wi...</td>\n",
       "      <td>Others</td>\n",
       "    </tr>\n",
       "  </tbody>\n",
       "</table>\n",
       "<p>21072 rows × 2 columns</p>\n",
       "</div>"
      ],
      "text/plain": [
       "                                          complaint_list  \\\n",
       "1      good morning my name is xxxx xxxx and i apprec...   \n",
       "2      i upgraded my xxxx xxxx card in  and was told ...   \n",
       "10     chase card was reported on  however fraudulent...   \n",
       "11     on  while trying to book a xxxx  xxxx  ticket ...   \n",
       "14     my grand son give me check for  i deposit it i...   \n",
       "...                                                  ...   \n",
       "78303  after being a chase card customer for well ove...   \n",
       "78309  on wednesday xxxxxxxx i called chas my xxxx xx...   \n",
       "78310  i am not familiar with xxxx pay and did not un...   \n",
       "78311  i have had flawless credit for  yrs ive had ch...   \n",
       "78312  roughly  years ago i closed out my accounts wi...   \n",
       "\n",
       "                            Topic  \n",
       "1                   Mortgage/Loan  \n",
       "2                Banking services  \n",
       "10     Credit Card / Prepaid Card  \n",
       "11     Credit Card / Prepaid Card  \n",
       "14               Banking services  \n",
       "...                           ...  \n",
       "78303  Credit Card / Prepaid Card  \n",
       "78309     Theft/Dispute Reporting  \n",
       "78310            Banking services  \n",
       "78311                      Others  \n",
       "78312                      Others  \n",
       "\n",
       "[21072 rows x 2 columns]"
      ]
     },
     "execution_count": 76,
     "metadata": {},
     "output_type": "execute_result"
    }
   ],
   "source": [
    "train_data"
   ]
  },
  {
   "cell_type": "code",
   "execution_count": 77,
   "id": "4bf0c9c1",
   "metadata": {},
   "outputs": [
    {
     "name": "stderr",
     "output_type": "stream",
     "text": [
      "C:\\Users\\SAGAR_~1\\AppData\\Local\\Temp/ipykernel_47384/703802989.py:10: SettingWithCopyWarning: \n",
      "A value is trying to be set on a copy of a slice from a DataFrame.\n",
      "Try using .loc[row_indexer,col_indexer] = value instead\n",
      "\n",
      "See the caveats in the documentation: https://pandas.pydata.org/pandas-docs/stable/user_guide/indexing.html#returning-a-view-versus-a-copy\n",
      "  train_data['Topic'] = train_data['Topic'].map(reverse_mapping)\n"
     ]
    },
    {
     "data": {
      "text/html": [
       "<div>\n",
       "<style scoped>\n",
       "    .dataframe tbody tr th:only-of-type {\n",
       "        vertical-align: middle;\n",
       "    }\n",
       "\n",
       "    .dataframe tbody tr th {\n",
       "        vertical-align: top;\n",
       "    }\n",
       "\n",
       "    .dataframe thead th {\n",
       "        text-align: right;\n",
       "    }\n",
       "</style>\n",
       "<table border=\"1\" class=\"dataframe\">\n",
       "  <thead>\n",
       "    <tr style=\"text-align: right;\">\n",
       "      <th></th>\n",
       "      <th>complaint_list</th>\n",
       "      <th>Topic</th>\n",
       "    </tr>\n",
       "  </thead>\n",
       "  <tbody>\n",
       "    <tr>\n",
       "      <th>1</th>\n",
       "      <td>good morning my name is xxxx xxxx and i apprec...</td>\n",
       "      <td>4</td>\n",
       "    </tr>\n",
       "    <tr>\n",
       "      <th>2</th>\n",
       "      <td>i upgraded my xxxx xxxx card in  and was told ...</td>\n",
       "      <td>0</td>\n",
       "    </tr>\n",
       "    <tr>\n",
       "      <th>10</th>\n",
       "      <td>chase card was reported on  however fraudulent...</td>\n",
       "      <td>1</td>\n",
       "    </tr>\n",
       "    <tr>\n",
       "      <th>11</th>\n",
       "      <td>on  while trying to book a xxxx  xxxx  ticket ...</td>\n",
       "      <td>1</td>\n",
       "    </tr>\n",
       "    <tr>\n",
       "      <th>14</th>\n",
       "      <td>my grand son give me check for  i deposit it i...</td>\n",
       "      <td>0</td>\n",
       "    </tr>\n",
       "  </tbody>\n",
       "</table>\n",
       "</div>"
      ],
      "text/plain": [
       "                                       complaint_list  Topic\n",
       "1   good morning my name is xxxx xxxx and i apprec...      4\n",
       "2   i upgraded my xxxx xxxx card in  and was told ...      0\n",
       "10  chase card was reported on  however fraudulent...      1\n",
       "11  on  while trying to book a xxxx  xxxx  ticket ...      1\n",
       "14  my grand son give me check for  i deposit it i...      0"
      ]
     },
     "execution_count": 77,
     "metadata": {},
     "output_type": "execute_result"
    }
   ],
   "source": [
    "#reverse topic mapping\n",
    "reverse_mapping = {\n",
    "    'Banking services':0, \n",
    "    'Credit Card / Prepaid Card':1, \n",
    "    'Others':2, \n",
    "    'Theft/Dispute Reporting':3, \n",
    "    'Mortgage/Loan':4\n",
    "}\n",
    "\n",
    "train_data['Topic'] = train_data['Topic'].map(reverse_mapping)\n",
    "train_data.head()"
   ]
  },
  {
   "cell_type": "code",
   "execution_count": 82,
   "id": "a2d3f65a",
   "metadata": {},
   "outputs": [],
   "source": [
    "#x-y split\n",
    "X = train_data['complaint_list']\n",
    "y = train_data['Topic']"
   ]
  },
  {
   "cell_type": "code",
   "execution_count": 83,
   "id": "469c29c8",
   "metadata": {},
   "outputs": [],
   "source": [
    "# get vector count\n",
    "count_vec = CountVectorizer()\n",
    "X_vect = count_vec.fit_transform(X)"
   ]
  },
  {
   "cell_type": "code",
   "execution_count": 87,
   "id": "44cc62f9",
   "metadata": {},
   "outputs": [],
   "source": [
    "# fit transform word vector to TF-IDF\n",
    "from sklearn.feature_extraction.text import TfidfTransformer\n",
    "\n",
    "tfidf = TfidfTransformer()\n",
    "X_tfidf = tfidf.fit_transform(X_vect)"
   ]
  },
  {
   "cell_type": "code",
   "execution_count": 88,
   "id": "1a0b8441",
   "metadata": {},
   "outputs": [],
   "source": [
    "from sklearn.model_selection import train_test_split\n",
    "\n",
    "X_train,X_test,y_train,y_test = train_test_split(X_tfidf,y,test_size=0.25,random_state=40)"
   ]
  },
  {
   "cell_type": "markdown",
   "id": "524737ce",
   "metadata": {},
   "source": [
    "### Random Forest"
   ]
  },
  {
   "cell_type": "code",
   "execution_count": 89,
   "id": "427a4275",
   "metadata": {},
   "outputs": [],
   "source": [
    "from sklearn.ensemble import RandomForestClassifier"
   ]
  },
  {
   "cell_type": "code",
   "execution_count": 90,
   "id": "efe285a2",
   "metadata": {},
   "outputs": [],
   "source": [
    "model = RandomForestClassifier(n_estimators=450, random_state=40)"
   ]
  },
  {
   "cell_type": "code",
   "execution_count": 91,
   "id": "4bf6af25",
   "metadata": {},
   "outputs": [
    {
     "data": {
      "text/plain": [
       "RandomForestClassifier(n_estimators=450, random_state=40)"
      ]
     },
     "execution_count": 91,
     "metadata": {},
     "output_type": "execute_result"
    }
   ],
   "source": [
    "model.fit(X_train, y_train)"
   ]
  },
  {
   "cell_type": "code",
   "execution_count": 94,
   "id": "d357eece",
   "metadata": {},
   "outputs": [
    {
     "name": "stdout",
     "output_type": "stream",
     "text": [
      "Score : 81.98557327258922\n"
     ]
    }
   ],
   "source": [
    "print('Score : {}'.format(model.score(X_test, y_test)*100))"
   ]
  },
  {
   "cell_type": "code",
   "execution_count": 95,
   "id": "466eb246",
   "metadata": {},
   "outputs": [],
   "source": [
    "y_pred = model.predict(X_test)"
   ]
  },
  {
   "cell_type": "code",
   "execution_count": 98,
   "id": "72af0faf",
   "metadata": {},
   "outputs": [
    {
     "name": "stdout",
     "output_type": "stream",
     "text": [
      "Confusion matrix\n",
      "\n",
      " [[1293   63    3   32    6]\n",
      " [  50 1058    1  104   12]\n",
      " [  94  104  267   44   78]\n",
      " [ 123   70    1  956   15]\n",
      " [  79   56    9    5  745]]\n"
     ]
    }
   ],
   "source": [
    "from sklearn.metrics import confusion_matrix\n",
    "cm = confusion_matrix(y_test,y_pred)\n",
    "print('Confusion matrix\\n\\n', cm)"
   ]
  },
  {
   "cell_type": "code",
   "execution_count": 99,
   "id": "b25b8a1b",
   "metadata": {},
   "outputs": [
    {
     "name": "stdout",
     "output_type": "stream",
     "text": [
      "              precision    recall  f1-score   support\n",
      "\n",
      "           0       0.79      0.93      0.85      1397\n",
      "           1       0.78      0.86      0.82      1225\n",
      "           2       0.95      0.45      0.62       587\n",
      "           3       0.84      0.82      0.83      1165\n",
      "           4       0.87      0.83      0.85       894\n",
      "\n",
      "    accuracy                           0.82      5268\n",
      "   macro avg       0.85      0.78      0.79      5268\n",
      "weighted avg       0.83      0.82      0.81      5268\n",
      "\n"
     ]
    }
   ],
   "source": [
    "from sklearn.metrics import classification_report\n",
    "\n",
    "print(classification_report(y_test, y_pred))"
   ]
  },
  {
   "cell_type": "code",
   "execution_count": 107,
   "id": "544e35ca",
   "metadata": {},
   "outputs": [
    {
     "data": {
      "image/png": "[encoded data removed]",
      "text/plain": [
       "<Figure size 360x360 with 2 Axes>"
      ]
     },
     "metadata": {
      "needs_background": "light"
     },
     "output_type": "display_data"
    }
   ],
   "source": [
    "import seaborn as sns\n",
    "f, ax = plt.subplots(figsize=(5,5))\n",
    "sns.heatmap(cm, annot=True, linecolor='red', fmt='.0f', ax=ax)\n",
    "plt.xlabel('y_pred')\n",
    "plt.ylabel('y_test')\n",
    "plt.show()"
   ]
  },
  {
   "cell_type": "markdown",
   "id": "29a81d7a",
   "metadata": {},
   "source": [
    "### Hyper-parameter tunning"
   ]
  },
  {
   "cell_type": "code",
   "execution_count": 106,
   "id": "aa40ad04",
   "metadata": {},
   "outputs": [
    {
     "name": "stdout",
     "output_type": "stream",
     "text": [
      "OOB score :  0.7980258162490509\n",
      "Best Score :  0.7978359476051081\n",
      "Best Hyper parameters :  {'max_depth': None, 'min_samples_leaf': 5, 'n_estimators': 700}\n"
     ]
    }
   ],
   "source": [
    "from sklearn.model_selection import GridSearchCV\n",
    "\n",
    "rf = RandomForestClassifier(random_state=40, n_jobs=-1, oob_score=True)\n",
    "time_start1 = round(time.time())\n",
    "\n",
    "parameters = {\n",
    "    'n_estimators': [50,100,200,500,700],\n",
    "    'max_depth': [10,20,30,40,None],\n",
    "    'min_samples_leaf' : [5,10,15,20,30]\n",
    "}\n",
    "\n",
    "grid_s_cv_rf = GridSearchCV(rf,parameters)\n",
    "grid_s_cv_rf.fit(X_train,y_train.values.ravel())\n",
    "\n",
    "#oob score\n",
    "print('OOB score : ',grid_s_cv_rf.best_estimator_.oob_score_)\n",
    "\n",
    "#best hyperparameter\n",
    "print('Best Score : ', grid_s_cv_rf.best_score_)\n",
    "print('Best Hyper parameters : ', grid_s_cv_rf.best_params_)\n",
    "\n",
    "time_end1 = round(time.time())\n",
    "time_elapsed1 = time_end1 - time_start1\n",
    "print(time_elapsed1/60,' minutes...')"
   ]
  },
  {
   "cell_type": "markdown",
   "id": "654fa6f2",
   "metadata": {},
   "source": [
    "### Thank You!"
   ]
  },
  {
   "cell_type": "code",
   "execution_count": null,
   "id": "d1d96951",
   "metadata": {},
   "outputs": [],
   "source": []
  }
 ],
 "metadata": {
  "kernelspec": {
   "display_name": "Python 3 (ipykernel)",
   "language": "python",
   "name": "python3"
  },
  "language_info": {
   "codemirror_mode": {
    "name": "ipython",
    "version": 3
   },
   "file_extension": ".py",
   "mimetype": "text/x-python",
   "name": "python",
   "nbconvert_exporter": "python",
   "pygments_lexer": "ipython3",
   "version": "3.8.8"
  }
 },
 "nbformat": 4,
 "nbformat_minor": 5
}
